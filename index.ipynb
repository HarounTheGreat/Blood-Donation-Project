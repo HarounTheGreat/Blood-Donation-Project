{
 "cells": [
  {
   "attachments": {},
   "cell_type": "markdown",
   "metadata": {},
   "source": [
    "Import library "
   ]
  },
  {
   "cell_type": "code",
   "execution_count": 15,
   "metadata": {},
   "outputs": [],
   "source": [
    "import pandas as pd\n",
    "import numpy as np\n",
    "import matplotlib.pyplot as plt\n",
    "import string\n",
    "import xlsxwriter"
   ]
  },
  {
   "attachments": {},
   "cell_type": "markdown",
   "metadata": {},
   "source": [
    "## uploading the dataset\n",
    "### Turning the file from .tab File type to .csv"
   ]
  },
  {
   "cell_type": "code",
   "execution_count": 16,
   "metadata": {},
   "outputs": [
    {
     "data": {
      "text/plain": [
       "pandas.core.frame.DataFrame"
      ]
     },
     "execution_count": 16,
     "metadata": {},
     "output_type": "execute_result"
    }
   ],
   "source": [
    "op = pd.read_csv('./datasets/Blood_Pressure.tab')\n",
    "type(op)\n",
    "# op.to_csv('file_name.csv')\n"
   ]
  },
  {
   "attachments": {},
   "cell_type": "markdown",
   "metadata": {},
   "source": [
    "* DateTime \n",
    "* Date \n",
    "* Month \n",
    "* Day \n",
    "* Year \n",
    "* DayofWk \n",
    "* Time \n",
    "* Hour \n",
    "* Meal_Time \n",
    "* Sys(mmHg) \n",
    "* SysExcess \n",
    "* Dias(mmHg) \n",
    "* DiaExcess \n",
    "* bpDelta \n",
    "* Pulse(bpm)"
   ]
  },
  {
   "cell_type": "code",
   "execution_count": 17,
   "metadata": {},
   "outputs": [],
   "source": [
    "T=op[\"DateTime\\tDate\\tMonth\\tDay\\tYear\\tDayofWk\\tTime\\tHour\\tMeal_Time\\tSys(mmHg)\\tSysExcess\\tDias(mmHg)\\tDiaExcess\\tbpDelta\\tPulse(bpm)\"]"
   ]
  },
  {
   "attachments": {},
   "cell_type": "markdown",
   "metadata": {},
   "source": [
    "### prepare to create a new excel sheet \n",
    "\n",
    "In this exemple the Excel sheet name is \n",
    "\n",
    "<h1> Blood </h1>"
   ]
  },
  {
   "cell_type": "code",
   "execution_count": 18,
   "metadata": {},
   "outputs": [],
   "source": [
    "workbook = xlsxwriter.Workbook('./Blood.xlsx')\n",
    "worksheet = workbook.add_worksheet()"
   ]
  },
  {
   "cell_type": "code",
   "execution_count": 19,
   "metadata": {},
   "outputs": [
    {
     "name": "stdout",
     "output_type": "stream",
     "text": [
      "['2019-08-01', '09:15:54', '2019-08-01', '8', '1', '2019', '\"Thu\"', '\"09:15:54\"', '9', '\"Breakfast\"', '132', '-2', '80', '0', '52', '79']\n",
      "16\n"
     ]
    }
   ],
   "source": [
    "x = T[0].split()\n",
    "print(x)\n",
    "print(len(x))"
   ]
  },
  {
   "cell_type": "code",
   "execution_count": 20,
   "metadata": {},
   "outputs": [
    {
     "data": {
      "text/plain": [
       "['DateTime',\n",
       " 'Date',\n",
       " 'Month',\n",
       " 'Day',\n",
       " 'Year',\n",
       " 'DayofWk',\n",
       " 'Time',\n",
       " 'Hour',\n",
       " 'Meal_Time',\n",
       " 'Sys(mmHg)',\n",
       " 'SysExcess',\n",
       " 'Dias(mmHg)',\n",
       " 'DiaExcess',\n",
       " 'bpDelta',\n",
       " 'Pulse(bpm)']"
      ]
     },
     "execution_count": 20,
     "metadata": {},
     "output_type": "execute_result"
    }
   ],
   "source": [
    "A=\"DateTime\\tDate\\tMonth\\tDay\\tYear\\tDayofWk\\tTime\\tHour\\tMeal_Time\\tSys(mmHg)\\tSysExcess\\tDias(mmHg)\\tDiaExcess\\tbpDelta\\tPulse(bpm)\"\n",
    "\n",
    "new_A= A.split('\\t')\n",
    "\n",
    "\n",
    "new_A"
   ]
  },
  {
   "cell_type": "code",
   "execution_count": 21,
   "metadata": {},
   "outputs": [
    {
     "name": "stdout",
     "output_type": "stream",
     "text": [
      "['A', 'B', 'C', 'D', 'E', 'F', 'G', 'H', 'I', 'J', 'K', 'L', 'M', 'N', 'O', 'P', 'Q', 'R', 'S', 'T', 'U', 'V', 'W', 'X', 'Y', 'Z']\n"
     ]
    }
   ],
   "source": [
    "alphabet = list(string.ascii_uppercase)\n",
    "print(alphabet)"
   ]
  },
  {
   "cell_type": "code",
   "execution_count": 22,
   "metadata": {},
   "outputs": [],
   "source": [
    "for i in range(len(new_A)):\n",
    "    srt_i=str(i+1)\n",
    "    worksheet.write(alphabet[i] + '1', new_A[i])"
   ]
  },
  {
   "cell_type": "code",
   "execution_count": 23,
   "metadata": {},
   "outputs": [],
   "source": [
    "x=T[0].split('\\t')"
   ]
  },
  {
   "cell_type": "code",
   "execution_count": 24,
   "metadata": {},
   "outputs": [
    {
     "data": {
      "text/plain": [
       "['2019-08-01 09:15:54',\n",
       " '2019-08-01',\n",
       " '8',\n",
       " '1',\n",
       " '2019',\n",
       " '\"Thu\"',\n",
       " '\"09:15:54\"',\n",
       " '9',\n",
       " '\"Breakfast\"',\n",
       " '132',\n",
       " '-2',\n",
       " '80',\n",
       " '0',\n",
       " '52',\n",
       " '79']"
      ]
     },
     "execution_count": 24,
     "metadata": {},
     "output_type": "execute_result"
    }
   ],
   "source": [
    "x"
   ]
  },
  {
   "cell_type": "code",
   "execution_count": 25,
   "metadata": {},
   "outputs": [],
   "source": [
    "p=1\n",
    "for i in range(len(T)):\n",
    "    x=T[i].split('\\t')\n",
    "    k=0\n",
    "    p=p+1\n",
    "    for j in x:\n",
    "        worksheet.write(alphabet[k] + str(p),j)\n",
    "        k=k+1"
   ]
  },
  {
   "cell_type": "code",
   "execution_count": 26,
   "metadata": {},
   "outputs": [],
   "source": [
    "workbook.close()"
   ]
  }
 ],
 "metadata": {
  "kernelspec": {
   "display_name": "Python 3",
   "language": "python",
   "name": "python3"
  },
  "language_info": {
   "codemirror_mode": {
    "name": "ipython",
    "version": 3
   },
   "file_extension": ".py",
   "mimetype": "text/x-python",
   "name": "python",
   "nbconvert_exporter": "python",
   "pygments_lexer": "ipython3",
   "version": "3.10.8 (tags/v3.10.8:aaaf517, Oct 11 2022, 16:50:30) [MSC v.1933 64 bit (AMD64)]"
  },
  "orig_nbformat": 4,
  "vscode": {
   "interpreter": {
    "hash": "e9e3726e6372db5d4e872dd3bd103c1b0af02510c06ba8015f47d0107dbac029"
   }
  }
 },
 "nbformat": 4,
 "nbformat_minor": 2
}
